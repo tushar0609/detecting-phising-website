{
 "cells": [
  {
   "cell_type": "code",
   "execution_count": 29,
   "id": "grave-madagascar",
   "metadata": {},
   "outputs": [
    {
     "name": "stdout",
     "output_type": "stream",
     "text": [
      "0\n"
     ]
    },
    {
     "data": {
      "text/plain": [
       "1"
      ]
     },
     "execution_count": 29,
     "metadata": {},
     "output_type": "execute_result"
    }
   ],
   "source": [
    "def reDirection(url):\n",
    "    pos = url.rfind(\"//\")    #Finds last occurence of // in url\n",
    "    \n",
    "    if pos<7:\n",
    "        return 0\n",
    "    \n",
    "    if url[:5].upper()==\"HTTPS\" and pos==7:\n",
    "        return 0\n",
    "    \n",
    "    return 1    # only 1 // must be present and that only at index less than 7\n",
    "print(reDirection(\"http://95.154.196.187/broser/6716804bc5a91f707a34479012dad47c/\"))\n",
    "reDirection(\"http://davidforrest.org//davidforrest.us/wawaa/content/9cf311d77fc743a7a444a0ba0df5650c/?user=jim@thejimburkefamily.com&amp;_verify?service=mail&amp;data:text/html;charset=utf-8;base64\")       "
   ]
  },
  {
   "cell_type": "code",
   "execution_count": 25,
   "id": "superior-pillow",
   "metadata": {},
   "outputs": [
    {
     "name": "stdout",
     "output_type": "stream",
     "text": [
      "['', 'broser', '6716804bc5a91f707a34479012dad47c', '']\n",
      "2\n",
      "['', 'davidforrest.us', 'wawaa', 'content', '9cf311d77fc743a7a444a0ba0df5650c', '']\n"
     ]
    },
    {
     "data": {
      "text/plain": [
       "4"
      ]
     },
     "execution_count": 25,
     "metadata": {},
     "output_type": "execute_result"
    }
   ],
   "source": [
    "\n",
    "\n",
    "print(getDepth(\"http://95.154.196.187/broser/6716804bc5a91f707a34479012dad47c/\"))\n",
    "getDepth(\"http://davidforrest.org/davidforrest.us/wawaa/content/9cf311d77fc743a7a444a0ba0df5650c/?user=jim@thejimburkefamily.com&amp;_verify?service=mail&amp;data:text/html;charset=utf-8;base64\")    "
   ]
  },
  {
   "cell_type": "code",
   "execution_count": null,
   "id": "mobile-racing",
   "metadata": {},
   "outputs": [],
   "source": []
  }
 ],
 "metadata": {
  "kernelspec": {
   "display_name": "Python 3",
   "language": "python",
   "name": "python3"
  },
  "language_info": {
   "codemirror_mode": {
    "name": "ipython",
    "version": 3
   },
   "file_extension": ".py",
   "mimetype": "text/x-python",
   "name": "python",
   "nbconvert_exporter": "python",
   "pygments_lexer": "ipython3",
   "version": "3.8.5"
  }
 },
 "nbformat": 4,
 "nbformat_minor": 5
}
